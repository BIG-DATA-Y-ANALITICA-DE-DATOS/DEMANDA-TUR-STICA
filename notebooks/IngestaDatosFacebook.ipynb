{
 "cells": [
  {
   "cell_type": "markdown",
   "id": "e730c55b-56f6-4f37-b29d-f2e84500a11c",
   "metadata": {
    "jp-MarkdownHeadingCollapsed": true
   },
   "source": [
    "# Probando conexion con la base de datos"
   ]
  },
  {
   "cell_type": "code",
   "execution_count": 3,
   "id": "12cffdbd-7358-4340-a698-e7f3c019a192",
   "metadata": {},
   "outputs": [
    {
     "name": "stdout",
     "output_type": "stream",
     "text": [
      "Collecting python-dotenv\n",
      "  Using cached python_dotenv-1.1.1-py3-none-any.whl.metadata (24 kB)\n",
      "Downloading python_dotenv-1.1.1-py3-none-any.whl (20 kB)\n",
      "Installing collected packages: python-dotenv\n",
      "Successfully installed python-dotenv-1.1.1\n",
      "Note: you may need to restart the kernel to use updated packages.\n"
     ]
    }
   ],
   "source": [
    "pip install python-dotenv"
   ]
  },
  {
   "cell_type": "code",
   "execution_count": 6,
   "id": "80e86216-b5d9-4dfa-864d-94c52c7cd8c8",
   "metadata": {},
   "outputs": [
    {
     "name": "stdout",
     "output_type": "stream",
     "text": [
      "Connection successful!\n",
      "Current Time: (datetime.datetime(2025, 9, 29, 6, 20, 56, 854449, tzinfo=datetime.timezone.utc),)\n"
     ]
    }
   ],
   "source": [
    "import psycopg2\n",
    "from dotenv import load_dotenv\n",
    "import os\n",
    "\n",
    "# Load environment variables from .env\n",
    "load_dotenv()\n",
    "\n",
    "# Fetch variables\n",
    "USER = os.getenv(\"user\")\n",
    "PASSWORD = os.getenv(\"password\")\n",
    "HOST = os.getenv(\"host\")\n",
    "PORT = os.getenv(\"port\")\n",
    "DBNAME = os.getenv(\"dbname\")\n",
    "\n",
    "# Connect to the database\n",
    "try:\n",
    "    connection = psycopg2.connect(\n",
    "        user=USER,\n",
    "        password=PASSWORD,\n",
    "        host=HOST,\n",
    "        port=PORT,\n",
    "        dbname=DBNAME\n",
    "    )\n",
    "    print(\"Connection successful!\")\n",
    "    \n",
    "    # Create a cursor to execute SQL queries\n",
    "    cursor = connection.cursor()\n",
    "    \n",
    "    # Example query\n",
    "    cursor.execute(\"SELECT NOW();\")\n",
    "    result = cursor.fetchone()\n",
    "    print(\"Current Time:\", result)\n",
    "\n",
    "    # Close the cursor and connection\n",
    "    #cursor.close()\n",
    "    #connection.close()\n",
    "    #print(\"Connection closed.\")\n",
    "\n",
    "except Exception as e:\n",
    "    print(f\"Failed to connect: {e}\")"
   ]
  },
  {
   "cell_type": "markdown",
   "id": "2c3fbbb0-0870-47e9-8a5c-3f2eaeb10b0e",
   "metadata": {},
   "source": [
    "## Listando tablas disponibles"
   ]
  },
  {
   "cell_type": "code",
   "execution_count": 7,
   "id": "c80cee02-8d6f-4c9c-8615-7e121fa22043",
   "metadata": {},
   "outputs": [
    {
     "name": "stdout",
     "output_type": "stream",
     "text": [
      "Tablas encontradas:\n",
      "n8n_chat_histories\n",
      "airbnb_listings_final\n",
      "geography_columns\n",
      "geometry_columns\n",
      "spatial_ref_sys\n",
      "scraped_data\n",
      "tweets_results\n",
      "google_search\n",
      "trivago_hoteles\n",
      "facebook_posts\n"
     ]
    }
   ],
   "source": [
    "cursor = connection.cursor()\n",
    "cursor.execute(\"\"\"\n",
    "    SELECT table_name\n",
    "    FROM information_schema.tables\n",
    "    WHERE table_schema = 'public'\n",
    "\"\"\")\n",
    "\n",
    "tables = cursor.fetchall()\n",
    "print(\"Tablas encontradas:\")\n",
    "for table in tables:\n",
    "    print(table[0])\n",
    "\n",
    "cursor.close()"
   ]
  },
  {
   "cell_type": "markdown",
   "id": "20ad853d-5a12-4249-a51b-610cd0dec59e",
   "metadata": {},
   "source": [
    "## Listando campos de la tabla facebook_posts"
   ]
  },
  {
   "cell_type": "code",
   "execution_count": 8,
   "id": "1410dbe8-bced-4235-b420-169be460b345",
   "metadata": {},
   "outputs": [
    {
     "name": "stdout",
     "output_type": "stream",
     "text": [
      "Columnas en facebook_posts:\n",
      "- comment_count (integer)\n",
      "- view_count (integer)\n",
      "- music (jsonb)\n",
      "- reactions_count (integer)\n",
      "- comments (jsonb)\n",
      "- video (jsonb)\n",
      "- created_at (timestamp with time zone)\n",
      "- feedback_id (text)\n",
      "- author_id (text)\n",
      "- transcript (text)\n",
      "- share_count (text)\n",
      "- like_count (text)\n",
      "- post_id (text)\n",
      "- image_url (text)\n",
      "- author (text)\n",
      "- description (text)\n",
      "- url (text)\n",
      "- thumbnail (text)\n",
      "- video_url (text)\n",
      "- captions_url (text)\n"
     ]
    }
   ],
   "source": [
    "table_name = 'facebook_posts'  \n",
    "\n",
    "cursor = connection.cursor()\n",
    "cursor.execute(\"\"\"\n",
    "    SELECT column_name, data_type\n",
    "    FROM information_schema.columns\n",
    "    WHERE table_name = %s\n",
    "\"\"\", (table_name,))\n",
    "\n",
    "columns = cursor.fetchall()\n",
    "print(f\"Columnas en {table_name}:\")\n",
    "for column in columns:\n",
    "    print(f\"- {column[0]} ({column[1]})\")\n",
    "\n",
    "cursor.close()"
   ]
  },
  {
   "cell_type": "code",
   "execution_count": null,
   "id": "f9a73485-ae29-4771-9076-f2183bfae5ae",
   "metadata": {
    "scrolled": true
   },
   "outputs": [],
   "source": [
    "pip install hdfs"
   ]
  },
  {
   "cell_type": "markdown",
   "id": "e6f8c8c5-8a48-4530-8bc1-9769744f955a",
   "metadata": {
    "jp-MarkdownHeadingCollapsed": true
   },
   "source": [
    "# Seleccionamos la data y la almacenamos en memoria"
   ]
  },
  {
   "cell_type": "code",
   "execution_count": 1,
   "id": "b5746d55-8c46-4c20-9d4c-58794c278295",
   "metadata": {},
   "outputs": [
    {
     "name": "stderr",
     "output_type": "stream",
     "text": [
      "/tmp/ipykernel_16452/3713557710.py:28: UserWarning: pandas only supports SQLAlchemy connectable (engine/connection) or database string URI or sqlite3 DBAPI2 connection. Other DBAPI2 objects are not tested. Please consider using SQLAlchemy.\n",
      "  df = pd.read_sql(query, connection)\n"
     ]
    },
    {
     "name": "stdout",
     "output_type": "stream",
     "text": [
      "            post_id                  author  \\\n",
      "0   732574745273542      Luisito el das das   \n",
      "1  1604314470532320             SC Gonzalez   \n",
      "2  1467005400929895  Michel Dubraska Alfano   \n",
      "3  2908275766022845         Rajib Choudhury   \n",
      "4   941195313282924        কাঁচা মিঠে ট্যুর   \n",
      "\n",
      "                                         description  \\\n",
      "0  Hoy les voy a mostrar un lugar muy bonito y es...   \n",
      "1  If I have 4 days in Delhi … what are the place...   \n",
      "2  I have one extra day in New Delhi, any ideas o...   \n",
      "3                       India Gate 🇮🇳\\n\\n📍 New Delhi   \n",
      "4  In this video i describe about 15 Top-Rated To...   \n",
      "\n",
      "                                                 url  \\\n",
      "0  https://www.facebook.com/luisitodasdas1/videos...   \n",
      "1  https://www.facebook.com/groups/38573540239023...   \n",
      "2  https://www.facebook.com/groups/38573540239023...   \n",
      "3  https://www.facebook.com/groups/15285565906614...   \n",
      "4  https://www.facebook.com/109097457260426/video...   \n",
      "\n",
      "                                           thumbnail  \\\n",
      "0  https://scontent-atl3-1.xx.fbcdn.net/v/t15.525...   \n",
      "1                                               None   \n",
      "2                                               None   \n",
      "3                                               None   \n",
      "4  https://scontent.fshd1-1.fna.fbcdn.net/v/t15.5...   \n",
      "\n",
      "                                           video_url captions_url  \\\n",
      "0  https://video-atl3-3.xx.fbcdn.net/o1/v/t2/f2/m...         None   \n",
      "1                                               None         None   \n",
      "2                                               None         None   \n",
      "3                                               None         None   \n",
      "4  https://video.fshd1-1.fna.fbcdn.net/o1/v/t2/f2...         None   \n",
      "\n",
      "                            feedback_id  comment_count  view_count  \\\n",
      "0      ZmVlZGJhY2s6NTg2OTI5OTMwMTYyOTYz             64     25169.0   \n",
      "1  ZmVlZGJhY2s6MTYwNDMxNDQ3MDUzMjMyMA==             49         NaN   \n",
      "2  ZmVlZGJhY2s6MTQ2NzAwNTQwMDkyOTg5NQ==             16         NaN   \n",
      "3  ZmVlZGJhY2s6MjkwODI3NTc2NjAyMjg0NQ==              2         NaN   \n",
      "4      ZmVlZGJhY2s6MzEwODMxNTYwNDIwMzQ3              0       102.0   \n",
      "\n",
      "   reactions_count                                           comments  \\\n",
      "0              970  [{'id': 'Y29tbWVudDo1ODY5Mjk5MzAxNjI5NjNfMTMzO...   \n",
      "1               29  [{'id': 'Y29tbWVudDoxNjA0MzE0NDcwNTMyMzIwXzE2M...   \n",
      "2               20  [{'id': 'Y29tbWVudDoxNDY3MDA1NDAwOTI5ODk1XzE0N...   \n",
      "3               62  [{'id': 'Y29tbWVudDoyOTA4Mjc1NzY2MDIyODQ1XzI5M...   \n",
      "4                5                                                 []   \n",
      "\n",
      "                        created_at  \\\n",
      "0 2025-09-28 17:07:05.970196+00:00   \n",
      "1 2025-09-28 18:02:50.564096+00:00   \n",
      "2 2025-09-28 18:02:57.875934+00:00   \n",
      "3 2025-09-28 18:03:05.635057+00:00   \n",
      "4 2025-09-28 18:03:13.485043+00:00   \n",
      "\n",
      "                                           author_id transcript music  \\\n",
      "0                                               None       None  None   \n",
      "1  pfbid0vhYgPJ17cS1ariuDSX2EowBjjY1KAvfQdohh94XX...       None  None   \n",
      "2  pfbid02cviEd6AFJDNcpZ4wu2QRHd2A1rUcViiWGe2Gset...       None  None   \n",
      "3  pfbid02Gr6Vq5Jj1BZQsAzsdk2WDN2e65moZ2rrQnsZDBs...       None  None   \n",
      "4                                               None       None  None   \n",
      "\n",
      "  share_count like_count video  \\\n",
      "0        None       None  None   \n",
      "1           0       None  None   \n",
      "2           0       None  None   \n",
      "3           2       None  None   \n",
      "4        None       None  None   \n",
      "\n",
      "                                           image_url  \n",
      "0                                               None  \n",
      "1                                               None  \n",
      "2                                               None  \n",
      "3  https://scontent-lga3-2.xx.fbcdn.net/v/t39.308...  \n",
      "4                                               None  \n"
     ]
    }
   ],
   "source": [
    "import pandas as pd\n",
    "import psycopg2\n",
    "from dotenv import load_dotenv\n",
    "import os\n",
    "\n",
    "# Load environment variables from .env\n",
    "load_dotenv()\n",
    "\n",
    "# Fetch variables\n",
    "USER = os.getenv(\"user\")\n",
    "PASSWORD = os.getenv(\"password\")\n",
    "HOST = os.getenv(\"host\")\n",
    "PORT = os.getenv(\"port\")\n",
    "DBNAME = os.getenv(\"dbname\")\n",
    "\n",
    "# Conexión a tu base de datos\n",
    "connection = psycopg2.connect(\n",
    "        user=USER,\n",
    "        password=PASSWORD,\n",
    "        host=HOST,\n",
    "        port=PORT,\n",
    "        dbname=DBNAME\n",
    "    )\n",
    "\n",
    "table_name = 'facebook_posts'\n",
    "query = f\"SELECT * FROM {table_name};\"\n",
    "\n",
    "df = pd.read_sql(query, connection)\n",
    "print(df.head())\n",
    "connection.close()"
   ]
  },
  {
   "cell_type": "code",
   "execution_count": 6,
   "id": "a682325d-1c0a-4765-a49f-dbfb049d371f",
   "metadata": {},
   "outputs": [
    {
     "name": "stdout",
     "output_type": "stream",
     "text": [
      "<class 'pandas.core.frame.DataFrame'>\n",
      "RangeIndex: 31 entries, 0 to 30\n",
      "Data columns (total 20 columns):\n",
      " #   Column           Non-Null Count  Dtype              \n",
      "---  ------           --------------  -----              \n",
      " 0   post_id          31 non-null     object             \n",
      " 1   author           31 non-null     object             \n",
      " 2   description      29 non-null     object             \n",
      " 3   url              31 non-null     object             \n",
      " 4   thumbnail        2 non-null      object             \n",
      " 5   video_url        2 non-null      object             \n",
      " 6   captions_url     0 non-null      object             \n",
      " 7   feedback_id      31 non-null     object             \n",
      " 8   comment_count    31 non-null     int64              \n",
      " 9   view_count       2 non-null      float64            \n",
      " 10  reactions_count  31 non-null     int64              \n",
      " 11  comments         31 non-null     object             \n",
      " 12  created_at       31 non-null     datetime64[ns, UTC]\n",
      " 13  author_id        29 non-null     object             \n",
      " 14  transcript       0 non-null      object             \n",
      " 15  music            0 non-null      object             \n",
      " 16  share_count      29 non-null     object             \n",
      " 17  like_count       0 non-null      object             \n",
      " 18  video            0 non-null      object             \n",
      " 19  image_url        4 non-null      object             \n",
      "dtypes: datetime64[ns, UTC](1), float64(1), int64(2), object(16)\n",
      "memory usage: 5.0+ KB\n"
     ]
    }
   ],
   "source": [
    "df.info()"
   ]
  },
  {
   "cell_type": "markdown",
   "id": "663f5156-18f3-4287-ac81-d82723d3030f",
   "metadata": {},
   "source": [
    "# Procesamos los datos"
   ]
  },
  {
   "cell_type": "markdown",
   "id": "b0c8d860-4b93-4188-8acd-5d65f15c747a",
   "metadata": {},
   "source": [
    "## Api Facebook"
   ]
  },
  {
   "cell_type": "code",
   "execution_count": 11,
   "id": "8d6c38cd-3790-4729-b4ab-59a906171db1",
   "metadata": {},
   "outputs": [],
   "source": [
    "import ast\n",
    "from pyspark.sql import SparkSession\n",
    "from pyspark.sql.functions import col,when,regexp_replace, from_json, explode\n",
    "from pyspark.sql.types import StructType, StructField, StringType, IntegerType, ArrayType,FloatType, TimestampType"
   ]
  },
  {
   "cell_type": "code",
   "execution_count": 46,
   "id": "40c259eb-c65e-4e76-a0e7-c256ff667808",
   "metadata": {
    "scrolled": true
   },
   "outputs": [
    {
     "name": "stdout",
     "output_type": "stream",
     "text": [
      "root\n",
      " |-- post_id: string (nullable = true)\n",
      " |-- author: string (nullable = true)\n",
      " |-- description: string (nullable = true)\n",
      " |-- url: string (nullable = true)\n",
      " |-- thumbnail: string (nullable = true)\n",
      " |-- video_url: string (nullable = true)\n",
      " |-- captions_url: string (nullable = true)\n",
      " |-- feedback_id: string (nullable = true)\n",
      " |-- comment_count: integer (nullable = true)\n",
      " |-- view_count: float (nullable = true)\n",
      " |-- reactions_count: integer (nullable = true)\n",
      " |-- comments: string (nullable = true)\n",
      " |-- created_at: timestamp (nullable = true)\n",
      " |-- author_id: string (nullable = true)\n",
      " |-- transcript: string (nullable = true)\n",
      " |-- music: string (nullable = true)\n",
      " |-- share_count: string (nullable = true)\n",
      " |-- like_count: string (nullable = true)\n",
      " |-- video: string (nullable = true)\n",
      " |-- image_url: string (nullable = true)\n",
      "\n",
      "Filas: 31\n",
      "+----------------+--------------------+--------------------+--------------------+--------------------+--------------------+------------+--------------------+-------------+----------+---------------+--------------------+--------------------+--------------------+----------+-----+-----------+----------+-----+--------------------+\n",
      "|         post_id|              author|         description|                 url|           thumbnail|           video_url|captions_url|         feedback_id|comment_count|view_count|reactions_count|            comments|          created_at|           author_id|transcript|music|share_count|like_count|video|           image_url|\n",
      "+----------------+--------------------+--------------------+--------------------+--------------------+--------------------+------------+--------------------+-------------+----------+---------------+--------------------+--------------------+--------------------+----------+-----+-----------+----------+-----+--------------------+\n",
      "| 732574745273542|  Luisito el das das|Hoy les voy a mos...|https://www.faceb...|https://scontent-...|https://video-atl...|        NULL|ZmVlZGJhY2s6NTg2O...|           64|   25169.0|            970|[{reaction_count=...|2025-09-28 12:07:...|                NULL|      NULL| NULL|       NULL|      NULL| NULL|                NULL|\n",
      "|1604314470532320|         SC Gonzalez|If I have 4 days ...|https://www.faceb...|                NULL|                NULL|        NULL|ZmVlZGJhY2s6MTYwN...|           49|       NaN|             29|[{reaction_count=...|2025-09-28 13:02:...|pfbid0vhYgPJ17cS1...|      NULL| NULL|          0|      NULL| NULL|                NULL|\n",
      "|1467005400929895|Michel Dubraska A...|I have one extra ...|https://www.faceb...|                NULL|                NULL|        NULL|ZmVlZGJhY2s6MTQ2N...|           16|       NaN|             20|[{reaction_count=...|2025-09-28 13:02:...|pfbid02cviEd6AFJD...|      NULL| NULL|          0|      NULL| NULL|                NULL|\n",
      "|2908275766022845|     Rajib Choudhury|India Gate 🇮🇳\\n...|https://www.faceb...|                NULL|                NULL|        NULL|ZmVlZGJhY2s6MjkwO...|            2|       NaN|             62|[{reaction_count=...|2025-09-28 13:03:...|pfbid02Gr6Vq5Jj1B...|      NULL| NULL|          2|      NULL| NULL|https://scontent-...|\n",
      "| 941195313282924|    কাঁচা মিঠে ট্যুর|In this video i d...|https://www.faceb...|https://scontent....|https://video.fsh...|        NULL|ZmVlZGJhY2s6MzEwO...|            0|     102.0|              5|                  []|2025-09-28 13:03:...|                NULL|      NULL| NULL|       NULL|      NULL| NULL|                NULL|\n",
      "+----------------+--------------------+--------------------+--------------------+--------------------+--------------------+------------+--------------------+-------------+----------+---------------+--------------------+--------------------+--------------------+----------+-----+-----------+----------+-----+--------------------+\n",
      "only showing top 5 rows\n",
      "\n"
     ]
    }
   ],
   "source": [
    "# Iniciar Spark\n",
    "spark = SparkSession.builder \\\n",
    "    .appName(\"FacebookPostsProcessing\") \\\n",
    "    .getOrCreate()\n",
    "\n",
    "schema = StructType([\n",
    "    StructField(\"post_id\", StringType(), True),\n",
    "    StructField(\"author\", StringType(), True),\n",
    "    StructField(\"description\", StringType(), True),\n",
    "    StructField(\"url\", StringType(), True),\n",
    "    StructField(\"thumbnail\", StringType(), True),\n",
    "    StructField(\"video_url\", StringType(), True),\n",
    "    StructField(\"captions_url\", StringType(), True),\n",
    "    StructField(\"feedback_id\", StringType(), True),\n",
    "    StructField(\"comment_count\", IntegerType(), True),\n",
    "    StructField(\"view_count\", FloatType(), True),\n",
    "    StructField(\"reactions_count\", IntegerType(), True),\n",
    "    StructField(\"comments\", StringType(), True),\n",
    "    StructField(\"created_at\", TimestampType(), True),\n",
    "    StructField(\"author_id\", StringType(), True),\n",
    "    StructField(\"transcript\", StringType(), True),\n",
    "    StructField(\"music\", StringType(), True),\n",
    "    StructField(\"share_count\", StringType(), True),\n",
    "    StructField(\"like_count\", StringType(), True),\n",
    "    StructField(\"video\", StringType(), True),\n",
    "    StructField(\"image_url\", StringType(), True)\n",
    "])\n",
    "\n",
    "raw_df = spark.createDataFrame(df, schema=schema)\n",
    "\n",
    "# Ver esquema\n",
    "raw_df.printSchema()\n",
    "\n",
    "# Contar filas\n",
    "print(\"Filas:\", raw_df.count())\n",
    "\n",
    "# Mostrar primeras filas\n",
    "raw_df.show(5)"
   ]
  },
  {
   "cell_type": "code",
   "execution_count": 12,
   "id": "68edcbbd-74ab-47e8-811f-1f283fe13d10",
   "metadata": {},
   "outputs": [
    {
     "name": "stdout",
     "output_type": "stream",
     "text": [
      "+-----------------+---------------+-----------+--------------------+---------+---------+------------+--------------------+-------------+----------+---------------+--------------------+--------------------+---------------+----------+-----+-----------+----------+-----+---------+\n",
      "|          post_id|         author|description|                 url|thumbnail|video_url|captions_url|         feedback_id|comment_count|view_count|reactions_count|            comments|          created_at|      author_id|transcript|music|share_count|like_count|video|image_url|\n",
      "+-----------------+---------------+-----------+--------------------+---------+---------+------------+--------------------+-------------+----------+---------------+--------------------+--------------------+---------------+----------+-----+-----------+----------+-----+---------+\n",
      "|31551441477836714|Turismo Mundial|       NULL|https://www.faceb...|     NULL|     NULL|        NULL|ZmVlZGJhY2s6MzE1N...|            0|       NaN|              4|                  []|2025-09-28 22:42:...|100071967090707|      NULL| NULL|         51|      NULL| NULL|     NULL|\n",
      "| 2514063592259784|   Alexandro CC|       NULL|https://www.faceb...|     NULL|     NULL|        NULL|ZmVlZGJhY2s6MjUxN...|            6|       NaN|             99|[{reaction_count=...|2025-09-28 23:00:...|100012761652693|      NULL| NULL|        796|      NULL| NULL|     NULL|\n",
      "+-----------------+---------------+-----------+--------------------+---------+---------+------------+--------------------+-------------+----------+---------------+--------------------+--------------------+---------------+----------+-----+-----------+----------+-----+---------+\n",
      "\n"
     ]
    }
   ],
   "source": [
    "raw_df.filter(col(\"description\").isNull()).show()"
   ]
  },
  {
   "cell_type": "markdown",
   "id": "0dcf3bf3-68b0-480f-a994-3a5e82353a7f",
   "metadata": {},
   "source": [
    "### Seleccionamos las columnas que nos serviran"
   ]
  },
  {
   "cell_type": "code",
   "execution_count": 20,
   "id": "382d58be-72c0-4933-b2ef-5309f141fb56",
   "metadata": {},
   "outputs": [
    {
     "name": "stdout",
     "output_type": "stream",
     "text": [
      "+----------------+--------------------+--------------------+--------------------+--------------------+---------------+-------------+\n",
      "|         post_id|              author|         description|           author_id|          created_at|reactions_count|comment_count|\n",
      "+----------------+--------------------+--------------------+--------------------+--------------------+---------------+-------------+\n",
      "| 732574745273542|  Luisito el das das|Hoy les voy a mos...|                NULL|2025-09-28 12:07:...|            970|           64|\n",
      "|1604314470532320|         SC Gonzalez|If I have 4 days ...|pfbid0vhYgPJ17cS1...|2025-09-28 13:02:...|             29|           49|\n",
      "|1467005400929895|Michel Dubraska A...|I have one extra ...|pfbid02cviEd6AFJD...|2025-09-28 13:02:...|             20|           16|\n",
      "|2908275766022845|     Rajib Choudhury|India Gate 🇮🇳\\n...|pfbid02Gr6Vq5Jj1B...|2025-09-28 13:03:...|             62|            2|\n",
      "| 941195313282924|    কাঁচা মিঠে ট্যুর|In this video i d...|                NULL|2025-09-28 13:03:...|              5|            0|\n",
      "+----------------+--------------------+--------------------+--------------------+--------------------+---------------+-------------+\n",
      "only showing top 5 rows\n",
      "\n",
      "root\n",
      " |-- post_id: string (nullable = true)\n",
      " |-- author: string (nullable = true)\n",
      " |-- description: string (nullable = true)\n",
      " |-- author_id: string (nullable = true)\n",
      " |-- created_at: timestamp (nullable = true)\n",
      " |-- reactions_count: integer (nullable = true)\n",
      " |-- comment_count: integer (nullable = true)\n",
      "\n"
     ]
    }
   ],
   "source": [
    "## Datos de post ##\n",
    "posts_columns = [\n",
    "    \"post_id\",\n",
    "    \"author\",\n",
    "    \"description\",\n",
    "    \"author_id\",\n",
    "    \"created_at\",\n",
    "    \"reactions_count\",\n",
    "    \"comment_count\"\n",
    "]\n",
    "\n",
    "posts_df = raw_df.select(*posts_columns)\n",
    "\n",
    "# Revisar el resultado\n",
    "posts_df.show(5)\n",
    "posts_df.printSchema()"
   ]
  },
  {
   "attachments": {},
   "cell_type": "markdown",
   "id": "bbb0cd72-3ad7-4f62-9f59-1a53fda3b5fb",
   "metadata": {},
   "source": [
    "### Total de datos con descripción nula"
   ]
  },
  {
   "cell_type": "code",
   "execution_count": 21,
   "id": "3bc926b6-6d9c-4906-a209-0c646a1ed6f5",
   "metadata": {},
   "outputs": [
    {
     "data": {
      "text/plain": [
       "2"
      ]
     },
     "execution_count": 21,
     "metadata": {},
     "output_type": "execute_result"
    }
   ],
   "source": [
    "posts_df.filter(col(\"description\").isNull()).count()"
   ]
  },
  {
   "cell_type": "markdown",
   "id": "4ec71ca1-0a13-458d-a733-9febeeda4a3a",
   "metadata": {},
   "source": [
    "### Eliminando datos con descripción nula"
   ]
  },
  {
   "cell_type": "code",
   "execution_count": 22,
   "id": "d77afb56-0bb9-4497-9159-9eaf563d1220",
   "metadata": {},
   "outputs": [
    {
     "name": "stdout",
     "output_type": "stream",
     "text": [
      "+-----------------+---------------+-----------+---------------+--------------------+---------------+-------------+\n",
      "|          post_id|         author|description|      author_id|          created_at|reactions_count|comment_count|\n",
      "+-----------------+---------------+-----------+---------------+--------------------+---------------+-------------+\n",
      "|31551441477836714|Turismo Mundial|       NULL|100071967090707|2025-09-28 22:42:...|              4|            0|\n",
      "| 2514063592259784|   Alexandro CC|       NULL|100012761652693|2025-09-28 23:00:...|             99|            6|\n",
      "+-----------------+---------------+-----------+---------------+--------------------+---------------+-------------+\n",
      "\n"
     ]
    }
   ],
   "source": [
    "posts_df.filter(col(\"description\").isNull()).show()"
   ]
  },
  {
   "cell_type": "code",
   "execution_count": 25,
   "id": "fd2bede5-bd61-49e7-b0cb-3c1293870397",
   "metadata": {},
   "outputs": [
    {
     "name": "stdout",
     "output_type": "stream",
     "text": [
      "+----------------+--------------------+--------------------+--------------------+--------------------+---------------+-------------+\n",
      "|         post_id|              author|         description|           author_id|          created_at|reactions_count|comment_count|\n",
      "+----------------+--------------------+--------------------+--------------------+--------------------+---------------+-------------+\n",
      "| 732574745273542|  Luisito el das das|Hoy les voy a mos...|                NULL|2025-09-28 12:07:...|            970|           64|\n",
      "|1604314470532320|         SC Gonzalez|If I have 4 days ...|pfbid0vhYgPJ17cS1...|2025-09-28 13:02:...|             29|           49|\n",
      "|1467005400929895|Michel Dubraska A...|I have one extra ...|pfbid02cviEd6AFJD...|2025-09-28 13:02:...|             20|           16|\n",
      "|2908275766022845|     Rajib Choudhury|India Gate 🇮🇳\\n...|pfbid02Gr6Vq5Jj1B...|2025-09-28 13:03:...|             62|            2|\n",
      "| 941195313282924|    কাঁচা মিঠে ট্যুর|In this video i d...|                NULL|2025-09-28 13:03:...|              5|            0|\n",
      "|4049893928608482|        Krishanu Roy|My wife and me ar...|pfbid02QCfq4hJRDa...|2025-09-28 13:03:...|             11|           16|\n",
      "|2743719092478514|     Amrita Mukherje|The famous Lotus ...|pfbid0KpYEkJw2LGH...|2025-09-28 13:03:...|            223|           10|\n",
      "|2924253991091689|P. Elango Velur T...|Connaught Place i...|pfbid02Z7tWbJ5x8j...|2025-09-28 13:03:...|             12|            0|\n",
      "|2536020866601358|       Happy Journey|Top 10 tourise At...|pfbid0ymT4ySTyvfV...|2025-09-28 13:03:...|              0|            2|\n",
      "|1769613856924818|Anonymous partici...|What are your top...|    1218596282957302|2025-09-28 17:58:...|             10|           17|\n",
      "|1814420595777477| Stephanie Rodriguez|Traveling to Lima...|pfbid02E6yb5nf6NN...|2025-09-28 17:58:...|              8|            8|\n",
      "|1783720568847480|       Chad Locklear|I fly into Lima a...|            78804263|2025-09-28 17:58:...|              2|           12|\n",
      "|1781676199051917|         Mike Hollis|We are headed to ...|pfbid02gwmQxpQQHA...|2025-09-28 17:58:...|              2|           16|\n",
      "|1725208344698703|    Valentina Vayner|Hello, we are tra...|pfbid0FmxQUym8CFS...|2025-09-28 17:58:...|              6|           10|\n",
      "|1611812229371649|      Lowenna Brogan|Lima  - A few not...|pfbid02f99EoRjD4P...|2025-09-28 17:59:...|             36|            8|\n",
      "|1784883345397869|  Ashlee Lay Higinio|Hi!  We are doing...|pfbid02x9dy7MtWs1...|2025-09-28 17:59:...|              1|            3|\n",
      "|1668237803798667|       Orthnell Cash|Hi everyone. I'll...|             5009435|2025-09-28 17:59:...|             10|           14|\n",
      "|1870596446826558|           Kathy Jax|Traveling next we...|pfbid09ttiYp5s4F4...|2025-09-28 17:59:...|             16|           26|\n",
      "|1787557118463825|          Paola Fung|For all who ever ...|pfbid02TPTGmcK61y...|2025-09-28 20:33:...|             27|            1|\n",
      "|1863382827547920|Anonymous partici...|Hi all. I am trav...|     925107079389916|2025-09-28 20:33:...|              2|            6|\n",
      "+----------------+--------------------+--------------------+--------------------+--------------------+---------------+-------------+\n",
      "only showing top 20 rows\n",
      "\n"
     ]
    }
   ],
   "source": [
    "posts_df_nonull = posts_df.filter(posts_df.description.isNotNull())\n",
    "posts_df_nonull.show()"
   ]
  },
  {
   "cell_type": "code",
   "execution_count": 24,
   "id": "6536ec71-4afe-47e6-bd42-829023f4c174",
   "metadata": {},
   "outputs": [
    {
     "data": {
      "text/plain": [
       "29"
      ]
     },
     "execution_count": 24,
     "metadata": {},
     "output_type": "execute_result"
    }
   ],
   "source": [
    "posts_df_nonull.count()"
   ]
  },
  {
   "cell_type": "markdown",
   "id": "eb4b875f-6da8-499e-8a7d-4d934b6525b9",
   "metadata": {},
   "source": [
    "### Eliminando duplicados"
   ]
  },
  {
   "cell_type": "code",
   "execution_count": 198,
   "id": "de60dae1-0e8c-4376-9644-cffaa26b261f",
   "metadata": {},
   "outputs": [
    {
     "name": "stdout",
     "output_type": "stream",
     "text": [
      "+----------------+--------------------+--------------------+--------------------+--------------------+---------------+-------------+\n",
      "|         post_id|              author|         description|           author_id|          created_at|reactions_count|comment_count|\n",
      "+----------------+--------------------+--------------------+--------------------+--------------------+---------------+-------------+\n",
      "|1027196462108337|         Mochileando|Así puedes organi...|     100044539774908|2025-09-28 23:02:...|           1452|          286|\n",
      "|1114396044213087|       Mincetur Perú|🌍✨ ¡Feliz Día Mu...|     100069281046725|2025-09-28 22:43:...|            779|           21|\n",
      "|1467005400929895|Michel Dubraska A...|I have one extra ...|pfbid02cviEd6AFJD...|2025-09-28 13:02:...|             20|           16|\n",
      "|1578469652705907|        Sheila Boyle|Heading back to P...|pfbid0R3vak5wqW8w...|2025-09-28 20:33:...|              8|           20|\n",
      "|1604314470532320|         SC Gonzalez|If I have 4 days ...|pfbid0vhYgPJ17cS1...|2025-09-28 13:02:...|             29|           49|\n",
      "|1611812229371649|      Lowenna Brogan|Lima  - A few not...|pfbid02f99EoRjD4P...|2025-09-28 17:59:...|             36|            8|\n",
      "|1668237803798667|       Orthnell Cash|Hi everyone. I'll...|             5009435|2025-09-28 17:59:...|             10|           14|\n",
      "|1725208344698703|    Valentina Vayner|Hello, we are tra...|pfbid0FmxQUym8CFS...|2025-09-28 17:58:...|              6|           10|\n",
      "|1769613856924818|Anonymous partici...|What are your top...|    1218596282957302|2025-09-28 17:58:...|             10|           17|\n",
      "|1781676199051917|         Mike Hollis|We are headed to ...|pfbid02gwmQxpQQHA...|2025-09-28 17:58:...|              2|           16|\n",
      "|1783720568847480|       Chad Locklear|I fly into Lima a...|            78804263|2025-09-28 17:58:...|              2|           12|\n",
      "|1784883345397869|  Ashlee Lay Higinio|Hi!  We are doing...|pfbid02x9dy7MtWs1...|2025-09-28 17:59:...|              1|            3|\n",
      "|1787557118463825|          Paola Fung|For all who ever ...|pfbid02TPTGmcK61y...|2025-09-28 20:33:...|             27|            1|\n",
      "|1806691923217011|         Jane Mercer|We are traveling ...|pfbid02uEMymE3qtd...|2025-09-28 20:33:...|              4|            6|\n",
      "|1814420595777477| Stephanie Rodriguez|Traveling to Lima...|pfbid02E6yb5nf6NN...|2025-09-28 17:58:...|              8|            8|\n",
      "|1818339062052297|     Jonathan Newman|I had a day to sp...|pfbid0PV4ZgheSwTW...|2025-09-28 20:34:...|            281|           36|\n",
      "|1849004362319100|Anonymous partici...|Do you have any s...|     696258710111148|2025-09-28 20:33:...|              6|           23|\n",
      "|1855233595029510|        Martin Ruddy|Is there any loca...|pfbid0vLuYUDzozLr...|2025-09-28 20:33:...|              0|            8|\n",
      "|1863382827547920|Anonymous partici...|Hi all. I am trav...|     925107079389916|2025-09-28 20:33:...|              2|            6|\n",
      "|1870596446826558|           Kathy Jax|Traveling next we...|pfbid09ttiYp5s4F4...|2025-09-28 17:59:...|             16|           26|\n",
      "+----------------+--------------------+--------------------+--------------------+--------------------+---------------+-------------+\n",
      "only showing top 20 rows\n",
      "\n"
     ]
    }
   ],
   "source": [
    "posts_final_df = posts_df_nonull.dropDuplicates([\"post_id\"])\n",
    "\n",
    "# Mostrar resultado\n",
    "posts_final_df.show()"
   ]
  },
  {
   "cell_type": "code",
   "execution_count": 199,
   "id": "4e9d134f-c848-4db8-bfd4-da7bcc9367ae",
   "metadata": {},
   "outputs": [
    {
     "data": {
      "text/plain": [
       "29"
      ]
     },
     "execution_count": 199,
     "metadata": {},
     "output_type": "execute_result"
    }
   ],
   "source": [
    "posts_final_df.count()"
   ]
  },
  {
   "cell_type": "markdown",
   "id": "fd7e183a-791b-42f2-a9d2-a226bf09a1c7",
   "metadata": {},
   "source": [
    "### Normalizando comentarios"
   ]
  },
  {
   "cell_type": "code",
   "execution_count": 177,
   "id": "d8db88f8-690e-4549-ba7b-f959fb0d8af5",
   "metadata": {},
   "outputs": [],
   "source": [
    "from pyspark.sql.functions import col, regexp_replace, split, explode, regexp_extract,length, trim"
   ]
  },
  {
   "cell_type": "markdown",
   "id": "df2fbb73-9912-42ae-b824-02aea0f93ee8",
   "metadata": {},
   "source": [
    "#### Eliminar nulos"
   ]
  },
  {
   "cell_type": "code",
   "execution_count": 201,
   "id": "657ce405-0a7f-4c54-99ae-18eefde991f9",
   "metadata": {},
   "outputs": [],
   "source": [
    "# Filtrar comentarios no nulos y no vacíos\n",
    "raw_df_nonull = raw_df.filter(\n",
    "    (col(\"comments\").isNotNull()) & (length(trim(col(\"comments\"))) > 2)  # >2 porque '[]' tiene longitud 2\n",
    ")"
   ]
  },
  {
   "cell_type": "markdown",
   "id": "a54d3cca-7605-477d-b5c2-90df2961969f",
   "metadata": {},
   "source": [
    "#### Eliminar corchetes exteriores"
   ]
  },
  {
   "cell_type": "code",
   "execution_count": 202,
   "id": "45701931-3149-4012-8282-dff7f2b88a87",
   "metadata": {},
   "outputs": [],
   "source": [
    "# Limpiar corchetes exteriores\n",
    "clean_df = raw_df_nonull.withColumn(\n",
    "    \"comments_clean\",\n",
    "    regexp_replace(col(\"comments\"), r\"^\\[|\\]$\", \"\")\n",
    ")"
   ]
  },
  {
   "cell_type": "markdown",
   "id": "ea6ea388-1481-4599-97b4-f30bbcacbe01",
   "metadata": {},
   "source": [
    "#### Separar comentarios"
   ]
  },
  {
   "cell_type": "code",
   "execution_count": 180,
   "id": "28a41bcc-4260-420c-9bc0-f9e28c1de0f7",
   "metadata": {},
   "outputs": [],
   "source": [
    "# Separar comentarios individuales por '},{'\n",
    "exploded_df = clean_df.withColumn(\n",
    "    \"comment_single\",\n",
    "    explode(split(col(\"comments_clean\"), r\"\\},\\s*\\{\"))\n",
    ")"
   ]
  },
  {
   "cell_type": "markdown",
   "id": "b86a3dd9-2da3-4ad3-ac0d-374df309d988",
   "metadata": {},
   "source": [
    "#### Limpiar llaves sobrantes"
   ]
  },
  {
   "cell_type": "code",
   "execution_count": 181,
   "id": "77a6ecb6-cabf-40db-80db-de3689fc9525",
   "metadata": {},
   "outputs": [],
   "source": [
    "exploded_df = exploded_df.withColumn(\n",
    "    \"comment_single\",\n",
    "    regexp_replace(col(\"comment_single\"), r\"^\\{|\\}$\", \"\")\n",
    ")"
   ]
  },
  {
   "cell_type": "markdown",
   "id": "95460b3a-ceb6-490a-83ff-90c96ab2fbaa",
   "metadata": {},
   "source": [
    "#### Limpiar la columna comment_single para manejar saltos de línea dentro de text"
   ]
  },
  {
   "cell_type": "code",
   "execution_count": 182,
   "id": "406fc56c-7e8a-4e82-b142-81bb390c4622",
   "metadata": {},
   "outputs": [],
   "source": [
    "exploded_df = exploded_df.withColumn(\n",
    "    \"comment_clean\",\n",
    "    regexp_replace(col(\"comment_single\"), r\"\\n\", \" \")  # reemplaza saltos de línea por espacio\n",
    ")\n"
   ]
  },
  {
   "cell_type": "markdown",
   "id": "a5e25467-bb5b-4f6c-bc1b-a04016fac2b4",
   "metadata": {},
   "source": [
    "#### Extraer los comentarios individuales"
   ]
  },
  {
   "cell_type": "code",
   "execution_count": 183,
   "id": "9af7b724-73ee-4777-af30-89e4f800e24b",
   "metadata": {},
   "outputs": [],
   "source": [
    "exploded_df = exploded_df.withColumn(\n",
    "    \"comment_single\",\n",
    "    explode(split(col(\"comment_clean\"), r\"\\},\\s*\\{\"))  # separa cada comentario\n",
    ")"
   ]
  },
  {
   "cell_type": "markdown",
   "id": "a889ccb4-457b-461e-badc-4a2aebfb713d",
   "metadata": {},
   "source": [
    "#### Extraer campos con regex"
   ]
  },
  {
   "cell_type": "code",
   "execution_count": 184,
   "id": "1525112e-bc09-4140-852b-bf5c761453b8",
   "metadata": {},
   "outputs": [],
   "source": [
    "# Extraer campos con regex\n",
    "final_df = exploded_df.select(\n",
    "    col(\"post_id\"),\n",
    "    regexp_extract(col(\"comment_single\"), r\"id=([^,]+)\", 1).alias(\"comment_id\"),\n",
    "    regexp_extract(col(\"comment_single\"), r\"text=(.*?)(?=, id=)\", 1).alias(\"text\"),\n",
    "    regexp_extract(col(\"comment_single\"), r\"reaction_count=(\\d+)\", 1).alias(\"reaction_count\"),\n",
    "    regexp_extract(col(\"comment_single\"), r\"author=\\{.*?id=([^,]+)\", 1).alias(\"author_id\"),\n",
    "    regexp_extract(col(\"comment_single\"), r\"author=\\{.*? name=([^,}]+)\", 1).alias(\"author_name\"),\n",
    "    regexp_extract(col(\"comment_single\"), r\"author=\\{.*?gender=([^,}]+)\", 1).alias(\"author_gender\")\n",
    ")"
   ]
  },
  {
   "cell_type": "markdown",
   "id": "318ad424-72b4-4bb3-b2ac-b59425f3a837",
   "metadata": {},
   "source": [
    "#### Quitar espacios extras"
   ]
  },
  {
   "cell_type": "code",
   "execution_count": 185,
   "id": "262b1854-0459-4070-a639-072f49420987",
   "metadata": {},
   "outputs": [],
   "source": [
    "final_df = final_df.select(\n",
    "    [trim(col(c)).alias(c) for c in final_df.columns]\n",
    ")"
   ]
  },
  {
   "cell_type": "code",
   "execution_count": 186,
   "id": "8c469593-ae84-4862-9420-68677ef4c476",
   "metadata": {},
   "outputs": [
    {
     "name": "stdout",
     "output_type": "stream",
     "text": [
      "+----------------+--------------------+--------------------+--------------+--------------------+--------------------+-------------+\n",
      "|         post_id|          comment_id|                text|reaction_count|           author_id|         author_name|author_gender|\n",
      "+----------------+--------------------+--------------------+--------------+--------------------+--------------------+-------------+\n",
      "| 732574745273542|Y29tbWVudDo1ODY5M...|Muy Buenos días e...|             2|e99d92&_nc_ohc=fp...|       Leandro Vidal|         MALE|\n",
      "| 732574745273542|Y29tbWVudDo1ODY5M...|Bonito lugar luis...|             1|e99d92&_nc_ohc=_o...|    Gonzalo Espinoza|         MALE|\n",
      "|1604314470532320|Y29tbWVudDoxNjA0M...|Maybe..  Day 1 Qu...|             3|1d2534&_nc_ohc=ei...|Amanda Nabilla Kh...|       FEMALE|\n",
      "|1604314470532320|Y29tbWVudDoxNjA0M...|           Rishikesh|             3|1d2534&_nc_ohc=4a...|           Ram Singh|         MALE|\n",
      "|1604314470532320|Y29tbWVudDoxNjA0M...|2 places I would ...|             1|1d2534&_nc_ohc=Rv...|       Sandeep Kumar|         MALE|\n",
      "|1467005400929895|Y29tbWVudDoxNDY3M...|I work as a local...|             0|e99d92&_nc_ohc=xy...|        Satyam Singh|         MALE|\n",
      "|1467005400929895|Y29tbWVudDoxNDY3M...|https://www.tripa...|             0|e99d92&_nc_ohc=4B...|         Vijay Kumar|         MALE|\n",
      "|1467005400929895|Y29tbWVudDoxNDY3M...|There are many pl...|             0|1d2534&_nc_ohc=Rv...|       Sandeep Kumar|         MALE|\n",
      "|2908275766022845|Y29tbWVudDoyOTA4M...|We stayed in Delh...|             1|e99d92&_nc_ohc=ne...|         Tanu Tanuja|       FEMALE|\n",
      "|2908275766022845|Y29tbWVudDoyOTA4M...|                    |             1|e99d92&_nc_ohc=ne...|         Tanu Tanuja|       FEMALE|\n",
      "|4049893928608482|Y29tbWVudDo0MDQ5O...|There are so many...|             2|e99d92&_nc_ohc=5A...|   Priyanka Majumder|       FEMALE|\n",
      "|4049893928608482|Y29tbWVudDo0MDQ5O...|U can take a city...|             3|e99d92&_nc_ohc=ti...|  Bipul Mukhopadhyay|         MALE|\n",
      "|4049893928608482|Y29tbWVudDo0MDQ5O...|Lotus temple, red...|             2|e99d92&_nc_ohc=Nx...|         Tulip Mitra|       FEMALE|\n",
      "|2743719092478514|Y29tbWVudDoyNzQzN...|PEACEFULL! I´VE B...|             0|e99d92&_nc_ohc=Z5...|          Vitor Neto|         MALE|\n",
      "|2743719092478514|Y29tbWVudDoyNzQzN...|I visited there i...|             1|e99d92&_nc_ohc=io...|ਸੁਰਿੰਦਰਜੀਤ ਸਿੰਘ ਭ...|         MALE|\n",
      "|2743719092478514|Y29tbWVudDoyNzQzN...|    Looking Gorgious|             0|1d2534&_nc_ohc=MP...|         Nayak Malay|         MALE|\n",
      "|2536020866601358|Y29tbWVudDoyNTM2M...|Tq for your sugge...|             0|e99d92&_nc_ohc=E8...|       Happy Journey|         MALE|\n",
      "|2536020866601358|Y29tbWVudDoyNTM2M...|How about show To...|             1|e99d92&_nc_ohc=UD...|       Kevin Borgers|         MALE|\n",
      "|1769613856924818|Y29tbWVudDoxNzY5N...|I will limit my c...|            17|e99d92&_nc_ohc=LM...|        Steve Teller|         MALE|\n",
      "|1769613856924818|Y29tbWVudDoxNzY5N...|Circuito Mágico d...|             2|e99d92&_nc_ohc=9Q...|Jana Michelle Sch...|       FEMALE|\n",
      "+----------------+--------------------+--------------------+--------------+--------------------+--------------------+-------------+\n",
      "only showing top 20 rows\n",
      "\n"
     ]
    }
   ],
   "source": [
    "final_df.show()"
   ]
  },
  {
   "cell_type": "markdown",
   "id": "3e89b3aa-1481-4bfb-969a-27365839fbcc",
   "metadata": {},
   "source": [
    "#### Aun despues de limpiar nos quedaba un comentario sin texto"
   ]
  },
  {
   "cell_type": "code",
   "execution_count": 187,
   "id": "9c4afde8-997e-4967-8292-c2700870fc6d",
   "metadata": {},
   "outputs": [
    {
     "name": "stdout",
     "output_type": "stream",
     "text": [
      "+----------------+--------------------+--------------------+--------------+--------------------+-----------+-------------+\n",
      "|         post_id|          comment_id|                text|reaction_count|           author_id|author_name|author_gender|\n",
      "+----------------+--------------------+--------------------+--------------+--------------------+-----------+-------------+\n",
      "|2908275766022845|Y29tbWVudDoyOTA4M...|We stayed in Delh...|             1|e99d92&_nc_ohc=ne...|Tanu Tanuja|       FEMALE|\n",
      "|2908275766022845|Y29tbWVudDoyOTA4M...|                    |             1|e99d92&_nc_ohc=ne...|Tanu Tanuja|       FEMALE|\n",
      "+----------------+--------------------+--------------------+--------------+--------------------+-----------+-------------+\n",
      "\n"
     ]
    }
   ],
   "source": [
    "single_post_df =  final_df.filter(col(\"post_id\") == \"2908275766022845\")\n",
    "# Seleccionar solo la columna comments y mostrarla\n",
    "single_post_df.show()"
   ]
  },
  {
   "attachments": {
    "9b15ffa2-acdd-42a8-b5c6-9e778374cd70.png": {
     "image/png": "[encoded data removed]"
    }
   },
   "cell_type": "markdown",
   "id": "15adf5d7-085e-4b6d-9e1d-2bc8a8654b62",
   "metadata": {},
   "source": [
    "![image.png](attachment:9b15ffa2-acdd-42a8-b5c6-9e778374cd70.png)"
   ]
  },
  {
   "cell_type": "code",
   "execution_count": null,
   "id": "ea8c5aae-1fe8-453a-8a42-c6d8163d0aaf",
   "metadata": {},
   "outputs": [],
   "source": []
  },
  {
   "cell_type": "markdown",
   "id": "092d25b1-6ac3-4771-8385-f4db158e2e75",
   "metadata": {},
   "source": [
    "#### Eliminando comentarios que no poseen texto:"
   ]
  },
  {
   "cell_type": "code",
   "execution_count": 196,
   "id": "25a35480-20f8-42d4-8a19-0bdfdb04ba90",
   "metadata": {},
   "outputs": [
    {
     "name": "stdout",
     "output_type": "stream",
     "text": [
      "+----------------+--------------------+--------------------+--------------+--------------------+-----------+-------------+\n",
      "|         post_id|          comment_id|                text|reaction_count|           author_id|author_name|author_gender|\n",
      "+----------------+--------------------+--------------------+--------------+--------------------+-----------+-------------+\n",
      "|2908275766022845|Y29tbWVudDoyOTA4M...|We stayed in Delh...|             1|e99d92&_nc_ohc=ne...|Tanu Tanuja|       FEMALE|\n",
      "+----------------+--------------------+--------------------+--------------+--------------------+-----------+-------------+\n",
      "\n"
     ]
    }
   ],
   "source": [
    "coments_final_df = final_df.filter(trim(col(\"text\")) != \"\")\n",
    "single_post_df =  final_df_limp.filter(col(\"post_id\") == \"2908275766022845\")\n",
    "# Seleccionar solo la columna comments y mostrarla\n",
    "single_post_df.show()"
   ]
  },
  {
   "cell_type": "code",
   "execution_count": 41,
   "id": "34390590-ec15-40da-bf5e-dacdf88f7c97",
   "metadata": {},
   "outputs": [
    {
     "name": "stdout",
     "output_type": "stream",
     "text": [
      "+---------------+-----------+--------------------+--------------------+---------+---------+------------+--------------------+-------------+----------+---------------+--------------------+--------------------+---------------+----------+-----+-----------+----------+-----+---------+\n",
      "|        post_id|     author|         description|                 url|thumbnail|video_url|captions_url|         feedback_id|comment_count|view_count|reactions_count|            comments|          created_at|      author_id|transcript|music|share_count|like_count|video|image_url|\n",
      "+---------------+-----------+--------------------+--------------------+---------+---------+------------+--------------------+-------------+----------+---------------+--------------------+--------------------+---------------+----------+-----+-----------+----------+-----+---------+\n",
      "|606326448590140|Forbes Perú|Los lugares más v...|https://www.faceb...|     NULL|     NULL|        NULL|ZmVlZGJhY2s6NjA2M...|            1|       NaN|              6|[{reaction_count=...|2025-09-28 23:06:...|100076383696139|      NULL| NULL|          7|      NULL| NULL|     NULL|\n",
      "+---------------+-----------+--------------------+--------------------+---------+---------+------------+--------------------+-------------+----------+---------------+--------------------+--------------------+---------------+----------+-----+-----------+----------+-----+---------+\n",
      "\n"
     ]
    }
   ],
   "source": [
    "# Filtrar por post_id\n",
    "single_post_df = raw_df.filter(col(\"post_id\") == \"606326448590140\")\n",
    "\n",
    "# Mostrar el registro completo\n",
    "single_post_df.show()"
   ]
  },
  {
   "cell_type": "code",
   "execution_count": 39,
   "id": "1acc6844-daa7-4f9f-85d2-bcdfbc202220",
   "metadata": {},
   "outputs": [],
   "source": [
    "# Reemplazar comillas simples por dobles en 'comments'\n",
    "raw_df_clean = raw_df.withColumn(\n",
    "    \"comments_clean\",\n",
    "    regexp_replace(\"comments\", \"'\", '\"')\n",
    ")"
   ]
  },
  {
   "cell_type": "code",
   "execution_count": null,
   "id": "e9ee9cbb-eb34-4b6b-89d7-60f1b94f2783",
   "metadata": {},
   "outputs": [],
   "source": [
    "single_post_df = raw_df.filter(col(\"post_id\") == \"606326448590140\")\n",
    "\n",
    "# Mostrar el registro completo\n",
    "single_post_df.show(truncate=500)"
   ]
  },
  {
   "cell_type": "code",
   "execution_count": 41,
   "id": "eca515a6-76fb-4c07-a1ba-0aef7fc3a9f2",
   "metadata": {},
   "outputs": [],
   "source": [
    "raw_df_nonull = raw_df_clean.filter(raw_df_clean.comments_clean.isNotNull())\n",
    "\n",
    "comments_schema = ArrayType(\n",
    "    StructType([\n",
    "        StructField(\"id\", StringType(), True),\n",
    "        StructField(\"text\", StringType(), True),\n",
    "        StructField(\"reaction_count\", IntegerType(), True),\n",
    "        StructField(\"author\", StructType([\n",
    "            StructField(\"id\", StringType(), True),\n",
    "            StructField(\"name\", StringType(), True),\n",
    "            StructField(\"gender\", StringType(), True)\n",
    "        ]))\n",
    "    ])\n",
    ")\n"
   ]
  },
  {
   "cell_type": "code",
   "execution_count": 48,
   "id": "1974d6e0-e70c-4e10-9f5f-e53ed4a8aaa8",
   "metadata": {},
   "outputs": [
    {
     "name": "stdout",
     "output_type": "stream",
     "text": [
      "+---------------+--------------------+--------------------+--------------+---------------+-------------+-------------+\n",
      "|        post_id|          comment_id|                text|reaction_count|      author_id|  author_name|author_gender|\n",
      "+---------------+--------------------+--------------------+--------------+---------------+-------------+-------------+\n",
      "|606326448590140|Y29tbWVudDo2MDYzM...|Hace falta más in...|             0|100048700500150|Paty Da Silva|       FEMALE|\n",
      "+---------------+--------------------+--------------------+--------------+---------------+-------------+-------------+\n",
      "\n"
     ]
    }
   ],
   "source": [
    "from pyspark.sql.functions import col, regexp_replace, split, explode, regexp_extract\n",
    "# 1. Limpiar corchetes exteriores\n",
    "clean_df = raw_df_nonull.withColumn(\n",
    "    \"comments_clean2\",\n",
    "    regexp_replace(col(\"comments_clean\"), r\"^\\[|\\]$\", \"\")\n",
    ")\n",
    "\n",
    "# 2. Separar comentarios individuales por '},{' (asumiendo formato JSON consistente)\n",
    "exploded_df = clean_df.withColumn(\n",
    "    \"comment_single\",\n",
    "    explode(split(col(\"comments_clean2\"), r\"\\},\\s*\\{\"))\n",
    ")\n",
    "\n",
    "# 3. Agregar llaves faltantes en los extremos de cada fragmento\n",
    "exploded_df = exploded_df.withColumn(\n",
    "    \"comment_single\",\n",
    "    regexp_replace(col(\"comment_single\"), r\"^\", \"{\")\n",
    ").withColumn(\n",
    "    \"comment_single\",\n",
    "    regexp_replace(col(\"comment_single\"), r\"$\", \"}\")\n",
    ")\n",
    "\n",
    "# 4. Extraer campos de cada comentario usando regex\n",
    "comments_final_df = exploded_df.select(\n",
    "    col(\"post_id\"),\n",
    "    regexp_extract(\"comment_single\", r'\"id\":\\s*\"([^\"]+)\"', 1).alias(\"comment_id\"),\n",
    "    regexp_extract(\"comment_single\", r'\"text\":\\s*\"([^\"]+)\"', 1).alias(\"text\"),\n",
    "    regexp_extract(\"comment_single\", r'\"reaction_count\":\\s*(\\d+)', 1).cast(\"int\").alias(\"reaction_count\"),\n",
    "    regexp_extract(\"comment_single\", r'\"author\":\\s*\\{[^}]*\"id\":\\s*\"([^\"]+)\"', 1).alias(\"author_id\"),\n",
    "    regexp_extract(\"comment_single\", r'\"author\":\\s*\\{[^}]*\"name\":\\s*\"([^\"]+)\"', 1).alias(\"author_name\"),\n",
    "    regexp_extract(\"comment_single\", r'\"author\":\\s*\\{[^}]*\"gender\":\\s*\"([^\"]+)\"', 1).alias(\"author_gender\")\n",
    ")\n",
    "\n",
    "# 5. Mostrar resultado\n",
    "# Filtrar por post_id\n",
    "single_post_df = comments_final_df.filter(col(\"post_id\") == \"606326448590140\")\n",
    "\n",
    "# Mostrar el registro completo\n",
    "single_post_df.show()"
   ]
  },
  {
   "cell_type": "code",
   "execution_count": 197,
   "id": "8ccdd8bb-2673-4944-b907-5c28581573a1",
   "metadata": {},
   "outputs": [
    {
     "name": "stdout",
     "output_type": "stream",
     "text": [
      "+----------------+--------------------+--------------------+--------------+--------------------+--------------------+-------------+\n",
      "|         post_id|          comment_id|                text|reaction_count|           author_id|         author_name|author_gender|\n",
      "+----------------+--------------------+--------------------+--------------+--------------------+--------------------+-------------+\n",
      "| 732574745273542|Y29tbWVudDo1ODY5M...|Muy Buenos días e...|             2|e99d92&_nc_ohc=fp...|       Leandro Vidal|         MALE|\n",
      "| 732574745273542|Y29tbWVudDo1ODY5M...|Bonito lugar luis...|             1|e99d92&_nc_ohc=_o...|    Gonzalo Espinoza|         MALE|\n",
      "|1604314470532320|Y29tbWVudDoxNjA0M...|Maybe..  Day 1 Qu...|             3|1d2534&_nc_ohc=ei...|Amanda Nabilla Kh...|       FEMALE|\n",
      "|1604314470532320|Y29tbWVudDoxNjA0M...|           Rishikesh|             3|1d2534&_nc_ohc=4a...|           Ram Singh|         MALE|\n",
      "|1604314470532320|Y29tbWVudDoxNjA0M...|2 places I would ...|             1|1d2534&_nc_ohc=Rv...|       Sandeep Kumar|         MALE|\n",
      "|1467005400929895|Y29tbWVudDoxNDY3M...|I work as a local...|             0|e99d92&_nc_ohc=xy...|        Satyam Singh|         MALE|\n",
      "|1467005400929895|Y29tbWVudDoxNDY3M...|https://www.tripa...|             0|e99d92&_nc_ohc=4B...|         Vijay Kumar|         MALE|\n",
      "|1467005400929895|Y29tbWVudDoxNDY3M...|There are many pl...|             0|1d2534&_nc_ohc=Rv...|       Sandeep Kumar|         MALE|\n",
      "|2908275766022845|Y29tbWVudDoyOTA4M...|We stayed in Delh...|             1|e99d92&_nc_ohc=ne...|         Tanu Tanuja|       FEMALE|\n",
      "|4049893928608482|Y29tbWVudDo0MDQ5O...|There are so many...|             2|e99d92&_nc_ohc=5A...|   Priyanka Majumder|       FEMALE|\n",
      "|4049893928608482|Y29tbWVudDo0MDQ5O...|U can take a city...|             3|e99d92&_nc_ohc=ti...|  Bipul Mukhopadhyay|         MALE|\n",
      "|4049893928608482|Y29tbWVudDo0MDQ5O...|Lotus temple, red...|             2|e99d92&_nc_ohc=Nx...|         Tulip Mitra|       FEMALE|\n",
      "|2743719092478514|Y29tbWVudDoyNzQzN...|PEACEFULL! I´VE B...|             0|e99d92&_nc_ohc=Z5...|          Vitor Neto|         MALE|\n",
      "|2743719092478514|Y29tbWVudDoyNzQzN...|I visited there i...|             1|e99d92&_nc_ohc=io...|ਸੁਰਿੰਦਰਜੀਤ ਸਿੰਘ ਭ...|         MALE|\n",
      "|2743719092478514|Y29tbWVudDoyNzQzN...|    Looking Gorgious|             0|1d2534&_nc_ohc=MP...|         Nayak Malay|         MALE|\n",
      "|2536020866601358|Y29tbWVudDoyNTM2M...|Tq for your sugge...|             0|e99d92&_nc_ohc=E8...|       Happy Journey|         MALE|\n",
      "|2536020866601358|Y29tbWVudDoyNTM2M...|How about show To...|             1|e99d92&_nc_ohc=UD...|       Kevin Borgers|         MALE|\n",
      "|1769613856924818|Y29tbWVudDoxNzY5N...|I will limit my c...|            17|e99d92&_nc_ohc=LM...|        Steve Teller|         MALE|\n",
      "|1769613856924818|Y29tbWVudDoxNzY5N...|Circuito Mágico d...|             2|e99d92&_nc_ohc=9Q...|Jana Michelle Sch...|       FEMALE|\n",
      "|1769613856924818|Y29tbWVudDoxNzY5N...|A day tour to Par...|             2|e99d92&_nc_ohc=Lt...|       John M. Smith|         MALE|\n",
      "+----------------+--------------------+--------------------+--------------+--------------------+--------------------+-------------+\n",
      "only showing top 20 rows\n",
      "\n"
     ]
    }
   ],
   "source": [
    "coments_final_df.show()"
   ]
  },
  {
   "cell_type": "code",
   "execution_count": 200,
   "id": "426239d1-fb33-477e-96ab-25536c74bf60",
   "metadata": {},
   "outputs": [
    {
     "name": "stdout",
     "output_type": "stream",
     "text": [
      "+----------------+--------------------+--------------------+--------------------+--------------------+---------------+-------------+\n",
      "|         post_id|              author|         description|           author_id|          created_at|reactions_count|comment_count|\n",
      "+----------------+--------------------+--------------------+--------------------+--------------------+---------------+-------------+\n",
      "|1027196462108337|         Mochileando|Así puedes organi...|     100044539774908|2025-09-28 23:02:...|           1452|          286|\n",
      "|1114396044213087|       Mincetur Perú|🌍✨ ¡Feliz Día Mu...|     100069281046725|2025-09-28 22:43:...|            779|           21|\n",
      "|1467005400929895|Michel Dubraska A...|I have one extra ...|pfbid02cviEd6AFJD...|2025-09-28 13:02:...|             20|           16|\n",
      "|1578469652705907|        Sheila Boyle|Heading back to P...|pfbid0R3vak5wqW8w...|2025-09-28 20:33:...|              8|           20|\n",
      "|1604314470532320|         SC Gonzalez|If I have 4 days ...|pfbid0vhYgPJ17cS1...|2025-09-28 13:02:...|             29|           49|\n",
      "|1611812229371649|      Lowenna Brogan|Lima  - A few not...|pfbid02f99EoRjD4P...|2025-09-28 17:59:...|             36|            8|\n",
      "|1668237803798667|       Orthnell Cash|Hi everyone. I'll...|             5009435|2025-09-28 17:59:...|             10|           14|\n",
      "|1725208344698703|    Valentina Vayner|Hello, we are tra...|pfbid0FmxQUym8CFS...|2025-09-28 17:58:...|              6|           10|\n",
      "|1769613856924818|Anonymous partici...|What are your top...|    1218596282957302|2025-09-28 17:58:...|             10|           17|\n",
      "|1781676199051917|         Mike Hollis|We are headed to ...|pfbid02gwmQxpQQHA...|2025-09-28 17:58:...|              2|           16|\n",
      "|1783720568847480|       Chad Locklear|I fly into Lima a...|            78804263|2025-09-28 17:58:...|              2|           12|\n",
      "|1784883345397869|  Ashlee Lay Higinio|Hi!  We are doing...|pfbid02x9dy7MtWs1...|2025-09-28 17:59:...|              1|            3|\n",
      "|1787557118463825|          Paola Fung|For all who ever ...|pfbid02TPTGmcK61y...|2025-09-28 20:33:...|             27|            1|\n",
      "|1806691923217011|         Jane Mercer|We are traveling ...|pfbid02uEMymE3qtd...|2025-09-28 20:33:...|              4|            6|\n",
      "|1814420595777477| Stephanie Rodriguez|Traveling to Lima...|pfbid02E6yb5nf6NN...|2025-09-28 17:58:...|              8|            8|\n",
      "|1818339062052297|     Jonathan Newman|I had a day to sp...|pfbid0PV4ZgheSwTW...|2025-09-28 20:34:...|            281|           36|\n",
      "|1849004362319100|Anonymous partici...|Do you have any s...|     696258710111148|2025-09-28 20:33:...|              6|           23|\n",
      "|1855233595029510|        Martin Ruddy|Is there any loca...|pfbid0vLuYUDzozLr...|2025-09-28 20:33:...|              0|            8|\n",
      "|1863382827547920|Anonymous partici...|Hi all. I am trav...|     925107079389916|2025-09-28 20:33:...|              2|            6|\n",
      "|1870596446826558|           Kathy Jax|Traveling next we...|pfbid09ttiYp5s4F4...|2025-09-28 17:59:...|             16|           26|\n",
      "+----------------+--------------------+--------------------+--------------------+--------------------+---------------+-------------+\n",
      "only showing top 20 rows\n",
      "\n"
     ]
    }
   ],
   "source": [
    "posts_final_df.show()"
   ]
  },
  {
   "cell_type": "markdown",
   "id": "02cbbe17-1166-4b82-bace-5a69a35c7e23",
   "metadata": {},
   "source": [
    "# Guardando la data limpia en HDFS"
   ]
  },
  {
   "cell_type": "code",
   "execution_count": 207,
   "id": "c9e28856-795c-4372-aba9-90072857116e",
   "metadata": {},
   "outputs": [
    {
     "name": "stderr",
     "output_type": "stream",
     "text": [
      "                                                                                "
     ]
    },
    {
     "name": "stdout",
     "output_type": "stream",
     "text": [
      "Archivo guardado correctamente.\n"
     ]
    }
   ],
   "source": [
    "coments_final_df.write \\\n",
    "    .option(\"header\", \"true\") \\\n",
    "    .mode(\"overwrite\") \\\n",
    "    .csv(\"hdfs://localhost:9000/data/processed/facebook/facebook_coments_clean.csv\")\n",
    "print(\"Archivo guardado correctamente.\")"
   ]
  },
  {
   "cell_type": "code",
   "execution_count": 210,
   "id": "0e7fd7d9-f8ee-4016-bc88-6d2b993d0887",
   "metadata": {},
   "outputs": [
    {
     "name": "stderr",
     "output_type": "stream",
     "text": [
      "[Stage 399:=====================>                                   (3 + 5) / 8]"
     ]
    },
    {
     "name": "stdout",
     "output_type": "stream",
     "text": [
      "Archivo guardado correctamente.\n"
     ]
    },
    {
     "name": "stderr",
     "output_type": "stream",
     "text": [
      "                                                                                "
     ]
    }
   ],
   "source": [
    "posts_final_df.write \\\n",
    "    .option(\"header\", True) \\\n",
    "    .mode(\"overwrite\") \\\n",
    "    .csv(\"hdfs://localhost:9000/data/processed/facebook/facebook_posts_clean.csv\")\n",
    "print(\"Archivo guardado correctamente.\")"
   ]
  },
  {
   "attachments": {
    "cf31af4b-f0c5-453a-a688-0637f80ed1c6.png": {
     "image/png": "[encoded data removed]"
    }
   },
   "cell_type": "markdown",
   "id": "81c66d50-4a0d-4168-a947-a2a638379b36",
   "metadata": {},
   "source": [
    "![image.png](attachment:cf31af4b-f0c5-453a-a688-0637f80ed1c6.png)"
   ]
  },
  {
   "cell_type": "markdown",
   "id": "da306747-c6ac-4a03-9885-5eec77c81a1c",
   "metadata": {},
   "source": [
    "## Deteniendo sesion de spark"
   ]
  },
  {
   "cell_type": "code",
   "execution_count": 211,
   "id": "36598137-758b-42ff-b684-e0dcc3afe81a",
   "metadata": {},
   "outputs": [],
   "source": [
    "spark.stop()\n",
    "del spark  # elimina la variable"
   ]
  },
  {
   "cell_type": "code",
   "execution_count": 212,
   "id": "63c76a2b-366f-461f-9bde-1f3eefb8e5b3",
   "metadata": {},
   "outputs": [
    {
     "name": "stdout",
     "output_type": "stream",
     "text": [
      "SparkSession no está creada.\n"
     ]
    }
   ],
   "source": [
    "try:\n",
    "    spark\n",
    "except NameError:\n",
    "    print(\"SparkSession no está creada.\")\n"
   ]
  },
  {
   "cell_type": "code",
   "execution_count": null,
   "id": "8bef0570-682a-44b2-aafe-257e8f90de9a",
   "metadata": {},
   "outputs": [],
   "source": []
  }
 ],
 "metadata": {
  "kernelspec": {
   "display_name": "Python 3 (ipykernel)",
   "language": "python",
   "name": "python3"
  },
  "language_info": {
   "codemirror_mode": {
    "name": "ipython",
    "version": 3
   },
   "file_extension": ".py",
   "mimetype": "text/x-python",
   "name": "python",
   "nbconvert_exporter": "python",
   "pygments_lexer": "ipython3",
   "version": "3.11.2"
  }
 },
 "nbformat": 4,
 "nbformat_minor": 5
}
